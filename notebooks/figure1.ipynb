{
 "cells": [
  {
   "cell_type": "code",
   "execution_count": 7,
   "metadata": {},
   "outputs": [],
   "source": [
    "import jax\n",
    "import jax.numpy as jnp\n",
    "from jax import grad, vmap, jit, random\n",
    "\n",
    "import neural_tangents as nt\n",
    "from neural_tangents import stax\n",
    "\n",
    "from tensorflow.keras.datasets import mnist\n",
    "from tensorflow.keras.utils import to_categorical\n",
    "\n",
    "import numpy as np\n",
    "import matplotlib.pyplot as plt"
   ]
  },
  {
   "cell_type": "code",
   "execution_count": 10,
   "metadata": {},
   "outputs": [],
   "source": [
    "# Load and preprocess MNIST dataset\n",
    "(x_train, y_train), (x_test, y_test) = mnist.load_data()\n",
    "\n",
    "x_train, x_test = x_train/255, x_test/255\n",
    "y_train, y_test = to_categorical(y_train), to_categorical(y_test)\n",
    "\n",
    "dsize = 128\n",
    "\n",
    "choices = random.choice(random.key(0), jnp.arange(len(x_train)))\n",
    "\n",
    "x_train_sub, y_train_sub = x_train[choices], y_train[choices]"
   ]
  },
  {
   "cell_type": "code",
   "execution_count": null,
   "metadata": {},
   "outputs": [],
   "source": [
    "# Define NN using nt.stax\n",
    "\n",
    "def build_nn(size, wstd=1, bstd=0):\n",
    "    init_fn, apply_fn, kernel_fn = stax.serial(\n",
    "        stax.Dense(size, W_std=wstd, b_std=bstd), stax.Relu(),\n",
    "        stax.Dense(size, W_std=wstd, b_std=bstd), stax.Relu(),\n",
    "        stax.Dense(size, W_std=wstd, b_std=bstd), stax.Relu(),\n",
    "        stax.Dense(10)        \n",
    "    )"
   ]
  }
 ],
 "metadata": {
  "kernelspec": {
   "display_name": "neutang",
   "language": "python",
   "name": "python3"
  },
  "language_info": {
   "codemirror_mode": {
    "name": "ipython",
    "version": 3
   },
   "file_extension": ".py",
   "mimetype": "text/x-python",
   "name": "python",
   "nbconvert_exporter": "python",
   "pygments_lexer": "ipython3",
   "version": "3.11.11"
  }
 },
 "nbformat": 4,
 "nbformat_minor": 2
}

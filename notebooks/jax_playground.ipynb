{
 "cells": [
  {
   "cell_type": "code",
   "execution_count": 1,
   "metadata": {},
   "outputs": [],
   "source": [
    "import jax\n",
    "import jax.numpy as jnp"
   ]
  },
  {
   "cell_type": "code",
   "execution_count": 3,
   "metadata": {},
   "outputs": [
    {
     "name": "stdout",
     "output_type": "stream",
     "text": [
      "True\n",
      "[0 1 2 3 4]\n"
     ]
    }
   ],
   "source": [
    "#JAX is based on numpy, so uses its own Array class\n",
    "x = jnp.arange(5)\n",
    "print(isinstance(x, jax.Array))\n",
    "print(x)"
   ]
  },
  {
   "cell_type": "code",
   "execution_count": 8,
   "metadata": {},
   "outputs": [
    {
     "name": "stdout",
     "output_type": "stream",
     "text": [
      "{CpuDevice(id=0)}\n",
      "SingleDeviceSharding(device=CpuDevice(id=0), memory_kind=unpinned_host)\n"
     ]
    }
   ],
   "source": [
    "print(x.devices())\n",
    "print(x.sharding)"
   ]
  },
  {
   "cell_type": "code",
   "execution_count": 14,
   "metadata": {},
   "outputs": [
    {
     "name": "stdout",
     "output_type": "stream",
     "text": [
      "1.05 1.05\n",
      "128 μs ± 6.52 μs per loop (mean ± std. dev. of 7 runs, 10,000 loops each)\n",
      "13.5 μs ± 315 ns per loop (mean ± std. dev. of 7 runs, 100,000 loops each)\n"
     ]
    }
   ],
   "source": [
    "#We can use JIT compilation to gain performance improvements on some code\n",
    "def selu(x, alpha=1.67, lambda_=1.05):\n",
    "    return lambda_*jnp.where(x>0, x, alpha * jnp.exp(x) - alpha)\n",
    "\n",
    "selu_jit = jax.jit(selu)\n",
    "print(selu(1), selu_jit(1))\n",
    "\n",
    "%timeit selu(1)\n",
    "%timeit selu_jit(1)"
   ]
  },
  {
   "cell_type": "code",
   "execution_count": null,
   "metadata": {},
   "outputs": [
    {
     "name": "stdout",
     "output_type": "stream",
     "text": [
      "Traced<ShapedArray(int32[5])>with<DynamicJaxprTrace>\n"
     ]
    }
   ],
   "source": [
    "#JAX uses tracers to stand-in for array objects, which are then passed to JAX functions to extract the sequence of encoded operations\n",
    "@jax.jit\n",
    "def f(x):\n",
    "    print(x)\n",
    "    return x+1\n",
    "\n",
    "x = jnp.arange(5)\n",
    "result = f(x)"
   ]
  },
  {
   "cell_type": "code",
   "execution_count": 16,
   "metadata": {},
   "outputs": [
    {
     "data": {
      "text/plain": [
       "{ \u001b[34m\u001b[22m\u001b[1mlambda \u001b[39m\u001b[22m\u001b[22m; a\u001b[35m:f32[5]\u001b[39m. \u001b[34m\u001b[22m\u001b[1mlet\n",
       "    \u001b[39m\u001b[22m\u001b[22mb\u001b[35m:bool[5]\u001b[39m = gt a 0.0\n",
       "    c\u001b[35m:f32[5]\u001b[39m = exp a\n",
       "    d\u001b[35m:f32[5]\u001b[39m = mul 1.6699999570846558 c\n",
       "    e\u001b[35m:f32[5]\u001b[39m = sub d 1.6699999570846558\n",
       "    f\u001b[35m:f32[5]\u001b[39m = pjit[\n",
       "      name=_where\n",
       "      jaxpr={ \u001b[34m\u001b[22m\u001b[1mlambda \u001b[39m\u001b[22m\u001b[22m; g\u001b[35m:bool[5]\u001b[39m h\u001b[35m:f32[5]\u001b[39m i\u001b[35m:f32[5]\u001b[39m. \u001b[34m\u001b[22m\u001b[1mlet\n",
       "          \u001b[39m\u001b[22m\u001b[22mj\u001b[35m:f32[5]\u001b[39m = select_n g i h\n",
       "        \u001b[34m\u001b[22m\u001b[1min \u001b[39m\u001b[22m\u001b[22m(j,) }\n",
       "    ] b a e\n",
       "    k\u001b[35m:f32[5]\u001b[39m = mul 1.0499999523162842 f\n",
       "  \u001b[34m\u001b[22m\u001b[1min \u001b[39m\u001b[22m\u001b[22m(k,) }"
      ]
     },
     "execution_count": 16,
     "metadata": {},
     "output_type": "execute_result"
    }
   ],
   "source": [
    "#JAX uses its own intermediate representations for sequences of operations, jaxprs.\n",
    "x = jnp.arange(5.0)\n",
    "jax.make_jaxpr(selu)(x)"
   ]
  },
  {
   "cell_type": "code",
   "execution_count": 18,
   "metadata": {},
   "outputs": [
    {
     "name": "stdout",
     "output_type": "stream",
     "text": [
      "PyTreeDef([*, *, (*, *)])\n",
      "[1, 2, Array([0, 1, 2], dtype=int32), Array([1., 1.], dtype=float32)]\n"
     ]
    }
   ],
   "source": [
    "#Pytrees are used to handle cases when we have a collection of arrays\n",
    "params = [1,2, (jnp.arange(3), jnp.ones(2))]\n",
    "\n",
    "print(jax.tree.structure(params))\n",
    "print(jax.tree.leaves(params))"
   ]
  },
  {
   "cell_type": "code",
   "execution_count": 19,
   "metadata": {},
   "outputs": [
    {
     "name": "stdout",
     "output_type": "stream",
     "text": [
      "PyTreeDef({'W': *, 'b': *, 'n': *})\n",
      "[Array([[1., 1.],\n",
      "       [1., 1.]], dtype=float32), Array([0., 0.], dtype=float32), 5]\n"
     ]
    }
   ],
   "source": [
    "# Dictionary of parameters\n",
    "params = {'n': 5, 'W': jnp.ones((2, 2)), 'b': jnp.zeros(2)}\n",
    "\n",
    "print(jax.tree.structure(params))\n",
    "print(jax.tree.leaves(params))"
   ]
  },
  {
   "cell_type": "code",
   "execution_count": 21,
   "metadata": {},
   "outputs": [
    {
     "name": "stdout",
     "output_type": "stream",
     "text": [
      "PyTreeDef(CustomNode(namedtuple[Params], [*, *]))\n",
      "[1, 5.0]\n"
     ]
    }
   ],
   "source": [
    "# Named tuple of parameters\n",
    "from typing import NamedTuple\n",
    "\n",
    "class Params(NamedTuple):\n",
    "  a: int\n",
    "  b: float\n",
    "\n",
    "params = Params(1, 5.0)\n",
    "print(jax.tree.structure(params))\n",
    "print(jax.tree.leaves(params))"
   ]
  },
  {
   "cell_type": "code",
   "execution_count": 30,
   "metadata": {},
   "outputs": [
    {
     "name": "stdout",
     "output_type": "stream",
     "text": [
      "Array((), dtype=key<fry>) overlaying:\n",
      "[ 0 42]\n"
     ]
    }
   ],
   "source": [
    "#JAX uses keys for generating random numbers\n",
    "from jax import random\n",
    "\n",
    "key = random.key(42)\n",
    "print(key)"
   ]
  },
  {
   "cell_type": "code",
   "execution_count": 24,
   "metadata": {},
   "outputs": [
    {
     "name": "stdout",
     "output_type": "stream",
     "text": [
      "-0.028304616\n",
      "-0.028304616\n",
      "Array((), dtype=key<fry>) overlaying:\n",
      "[ 0 42]\n"
     ]
    }
   ],
   "source": [
    "print(random.normal(key))\n",
    "print(random.normal(key))\n",
    "print(key)"
   ]
  },
  {
   "cell_type": "code",
   "execution_count": 31,
   "metadata": {},
   "outputs": [
    {
     "name": "stdout",
     "output_type": "stream",
     "text": [
      "draw 0: 0.6057640314102173\n",
      "Array((), dtype=key<fry>) overlaying:\n",
      "[1832780943  270669613]\n",
      "draw 1: -0.21089035272598267\n",
      "Array((), dtype=key<fry>) overlaying:\n",
      "[1012194634 3152801799]\n",
      "draw 2: -0.3948981463909149\n",
      "Array((), dtype=key<fry>) overlaying:\n",
      "[1773327481 1441649378]\n"
     ]
    }
   ],
   "source": [
    "for i in range(3):\n",
    "  new_key, subkey = random.split(key)\n",
    "  del key  # The old key is consumed by split() -- we must never use it again.\n",
    "\n",
    "  val = random.normal(subkey)\n",
    "  del subkey  # The subkey is consumed by normal().\n",
    "\n",
    "  print(f\"draw {i}: {val}\")\n",
    "  key = new_key  # new_key is safe to use in the next iteration.\n",
    "  print(key)"
   ]
  },
  {
   "cell_type": "code",
   "execution_count": null,
   "metadata": {},
   "outputs": [],
   "source": [
    "# JAX transforms functions by representing them as a sequence of primitive operations,\n",
    "# each one representing a fundamental computation. These do not capture side-effects\n",
    "# in the code, which is intentional. This can be complicated for impure functions,\n",
    "# which are functions where all input is passed through the function arguments, and\n",
    "# all output is returned through the function return value. They can lead to unexpected\n",
    "# behavior. These are often not detected by JAX. This occurs as JAX works by wrapping\n",
    "# each parameter in a tracer object, which tracks the operations performed on the\n",
    "# parameter. This is used to produce the jaxpr. Also note that jaxprs only captures\n",
    "# the function with the values of parameters given to it, i.e. if we have if-else\n",
    "# statements in the function, the jaxpr will not capture the function with both\n",
    "# branches of the if-else statement - only the one followed will be captured."
   ]
  },
  {
   "cell_type": "code",
   "execution_count": 32,
   "metadata": {},
   "outputs": [
    {
     "name": "stdout",
     "output_type": "stream",
     "text": [
      "8.73 ms ± 1.07 ms per loop (mean ± std. dev. of 7 runs, 100 loops each)\n"
     ]
    }
   ],
   "source": [
    "# The code below will send one operation at a time to the accelerator,\n",
    "# limiting the ability of the compiler to optimise the code.\n",
    "x = jnp.arange(1000000)\n",
    "%timeit selu(x).block_until_ready()"
   ]
  },
  {
   "cell_type": "code",
   "execution_count": 34,
   "metadata": {},
   "outputs": [
    {
     "name": "stdout",
     "output_type": "stream",
     "text": [
      "2.43 ms ± 242 μs per loop (mean ± std. dev. of 7 runs, 100 loops each)\n"
     ]
    }
   ],
   "source": [
    "# The code below will jit compile the function, allowing the compiler\n",
    "# the receive more code and optimise it better.\n",
    "\n",
    "selu_jit = jax.jit(selu)\n",
    "\n",
    "# Pre-compile the function before timing...\n",
    "selu_jit(x).block_until_ready()\n",
    "\n",
    "%timeit selu_jit(x).block_until_ready()"
   ]
  },
  {
   "cell_type": "code",
   "execution_count": null,
   "metadata": {},
   "outputs": [],
   "source": [
    "# Note, jit compilation cannot be used everywhere. For example, when we \n",
    "# use if statements or while loops without using parameter values to\n",
    "# get a tracer (i.e. we can't use runtime values), we get errors. A workaround\n",
    "# is to use jax.lax.cond, rewriting to avoid conditionals, or only jit\n",
    "# compiling the parts of the code that don't have conditionals. If this\n",
    "# must be done, we can pass a number of static arguments to the jit function,\n",
    "# coming at the cost of having to be recompiled for every new input. \n",
    "# Often these are specified using functools' partial decorator."
   ]
  },
  {
   "cell_type": "code",
   "execution_count": 35,
   "metadata": {},
   "outputs": [
    {
     "data": {
      "text/plain": [
       "Array([11, 20, 29], dtype=int32)"
      ]
     },
     "execution_count": 35,
     "metadata": {},
     "output_type": "execute_result"
    }
   ],
   "source": [
    "#JAX can also be used for automatic vectorisation of functions.\n",
    "# Consider the following function:\n",
    "\n",
    "x = jnp.arange(5)\n",
    "w = jnp.array([2,3,4])\n",
    "\n",
    "def convolve(x,w):\n",
    "    output = []\n",
    "    for i in range(1, len(x)-1):\n",
    "        output.append(jnp.dot(x[i-1:i+2], w))\n",
    "    return jnp.array(output)\n",
    "\n",
    "convolve(x,w)"
   ]
  },
  {
   "cell_type": "code",
   "execution_count": 38,
   "metadata": {},
   "outputs": [
    {
     "name": "stdout",
     "output_type": "stream",
     "text": [
      "[[11 20 29]\n",
      " [11 20 29]]\n",
      "1.93 ms ± 57 μs per loop (mean ± std. dev. of 7 runs, 100 loops each)\n"
     ]
    }
   ],
   "source": [
    "#Consider applying this to batches of inputs\n",
    "xs = jnp.stack([x,x])\n",
    "ws = jnp.stack([w,w])\n",
    "\n",
    "# To do this, we could use a few methods. The most naive is to\n",
    "# loop over the inputs, e.g.\n",
    "\n",
    "def manually_batched_convolve(xs, ws):\n",
    "  output = []\n",
    "  for i in range(xs.shape[0]):\n",
    "    output.append(convolve(xs[i], ws[i]))\n",
    "  return jnp.stack(output)\n",
    "\n",
    "print(manually_batched_convolve(xs, ws))\n",
    "%timeit manually_batched_convolve(xs, ws)"
   ]
  },
  {
   "cell_type": "code",
   "execution_count": 39,
   "metadata": {},
   "outputs": [
    {
     "name": "stdout",
     "output_type": "stream",
     "text": [
      "[[11 20 29]\n",
      " [11 20 29]]\n",
      "700 μs ± 33.3 μs per loop (mean ± std. dev. of 7 runs, 1,000 loops each)\n"
     ]
    }
   ],
   "source": [
    "# To make this more efficient, we could rewrite convolve so it\n",
    "# is vectorised, and then apply it to the batched inputs.\n",
    "\n",
    "def manually_vectorised_convolve(xs, ws):\n",
    "    output = []\n",
    "    for i in range(1, xs.shape[-1] -1):\n",
    "        output.append(jnp.sum(xs[:, i-1:i+2] * ws, axis=1))\n",
    "    return jnp.stack(output, axis=1)\n",
    "\n",
    "print(manually_vectorised_convolve(xs, ws))\n",
    "%timeit manually_vectorised_convolve(xs, ws)"
   ]
  },
  {
   "cell_type": "code",
   "execution_count": 40,
   "metadata": {},
   "outputs": [
    {
     "name": "stdout",
     "output_type": "stream",
     "text": [
      "[[11 20 29]\n",
      " [11 20 29]]\n",
      "2.28 ms ± 162 μs per loop (mean ± std. dev. of 7 runs, 100 loops each)\n"
     ]
    }
   ],
   "source": [
    "# As we see, this is much faster than the previous implementation.\n",
    "# However, this can take more effort and become messy, so JAX\n",
    "# provides a way to automatically vectorise functions using the\n",
    "# vmap function.\n",
    "\n",
    "auto_vectorised_convolve = jax.vmap(convolve)\n",
    "\n",
    "print(auto_vectorised_convolve(xs, ws))\n",
    "%timeit auto_vectorised_convolve(xs, ws)"
   ]
  },
  {
   "cell_type": "code",
   "execution_count": 44,
   "metadata": {},
   "outputs": [
    {
     "name": "stdout",
     "output_type": "stream",
     "text": [
      "[[11 20 29]\n",
      " [11 20 29]]\n",
      "8.5 μs ± 95.6 ns per loop (mean ± std. dev. of 7 runs, 100,000 loops each)\n",
      "[[11 20 29]\n",
      " [11 20 29]]\n",
      "10.1 μs ± 661 ns per loop (mean ± std. dev. of 7 runs, 100,000 loops each)\n"
     ]
    }
   ],
   "source": [
    "# Note, this assumes that the batch axis is the first axis, which\n",
    "# can be changed using the in_axes and out_axes arguments. It also\n",
    "# supports the case where only one input is batched, by setting\n",
    "# the relevant term of in_axes to None. This is also compatible\n",
    "# with jax.jit:\n",
    "\n",
    "auto_vectorised_convolve_jit = jax.jit(jax.vmap(convolve))\n",
    "\n",
    "print(auto_vectorised_convolve_jit(xs, ws))\n",
    "%timeit auto_vectorised_convolve_jit(xs, ws)\n",
    "\n",
    "manually_vectorised_convolve_jit = jax.jit(manually_vectorised_convolve)\n",
    "print(manually_vectorised_convolve_jit(xs, ws))\n",
    "%timeit manually_vectorised_convolve_jit(xs, ws)"
   ]
  },
  {
   "cell_type": "code",
   "execution_count": 45,
   "metadata": {},
   "outputs": [
    {
     "name": "stdout",
     "output_type": "stream",
     "text": [
      "0.4199743\n"
     ]
    }
   ],
   "source": [
    "#We can use JAX to perform differentiation with the grad function:\n",
    "\n",
    "from jax import grad\n",
    "\n",
    "grad_tanh = grad(jnp.tanh)\n",
    "print(grad_tanh(1.0))"
   ]
  },
  {
   "cell_type": "code",
   "execution_count": 51,
   "metadata": {},
   "outputs": [
    {
     "data": {
      "image/png": "[encoded data removed]",
      "text/plain": [
       "<Figure size 640x480 with 1 Axes>"
      ]
     },
     "metadata": {},
     "output_type": "display_data"
    }
   ],
   "source": [
    "import matplotlib.pyplot as plt\n",
    "\n",
    "def f(x):\n",
    "    return x**3 + 2*x**2 - 5*x + 10\n",
    "\n",
    "x = jnp.linspace(-5,5,100)\n",
    "y = f(x)\n",
    "dydx = jax.vmap(grad(f))(x)\n",
    "d2ydx2 = jax.vmap(grad(grad(f)))(x)\n",
    "\n",
    "plt.plot(x, y, label='f(x)')\n",
    "plt.plot(x, dydx, label='f\\'(x)')\n",
    "plt.plot(x, d2ydx2, label='f\\'\\'(x)')\n",
    "plt.legend()\n",
    "plt.tight_layout()\n",
    "plt.show()"
   ]
  },
  {
   "cell_type": "code",
   "execution_count": 52,
   "metadata": {},
   "outputs": [],
   "source": [
    "#We can also use the grad function to compute gradients of functions with multiple arguments:\n",
    "key = jax.random.key(0)\n",
    "\n",
    "def sigmoid(x):\n",
    "  return 0.5 * (jnp.tanh(x / 2) + 1)\n",
    "\n",
    "# Outputs probability of a label being true.\n",
    "def predict(W, b, inputs):\n",
    "  return sigmoid(jnp.dot(inputs, W) + b)\n",
    "\n",
    "# Build a toy dataset.\n",
    "inputs = jnp.array([[0.52, 1.12,  0.77],\n",
    "                    [0.88, -1.08, 0.15],\n",
    "                    [0.52, 0.06, -1.30],\n",
    "                    [0.74, -2.49, 1.39]])\n",
    "targets = jnp.array([True, True, False, True])\n",
    "\n",
    "# Training loss is the negative log-likelihood of the training examples.\n",
    "def loss(W, b):\n",
    "  preds = predict(W, b, inputs)\n",
    "  label_probs = preds * targets + (1 - preds) * (1 - targets)\n",
    "  return -jnp.sum(jnp.log(label_probs))\n",
    "\n",
    "# Initialize random model coefficients\n",
    "key, W_key, b_key = jax.random.split(key, 3)\n",
    "W = jax.random.normal(W_key, (3,))\n",
    "b = jax.random.normal(b_key, ())"
   ]
  },
  {
   "cell_type": "code",
   "execution_count": 53,
   "metadata": {},
   "outputs": [
    {
     "name": "stdout",
     "output_type": "stream",
     "text": [
      "W_grad=Array([-0.43314594, -0.7354604 , -1.2598921 ], dtype=float32)\n",
      "W_grad=Array([-0.43314594, -0.7354604 , -1.2598921 ], dtype=float32)\n",
      "b_grad=Array(-0.6900177, dtype=float32)\n",
      "W_grad=Array([-0.43314594, -0.7354604 , -1.2598921 ], dtype=float32)\n",
      "b_grad=Array(-0.6900177, dtype=float32)\n"
     ]
    }
   ],
   "source": [
    "# Differentiate `loss` with respect to the first positional argument:\n",
    "W_grad = grad(loss, argnums=0)(W, b)\n",
    "print(f'{W_grad=}')\n",
    "\n",
    "# Since argnums=0 is the default, this does the same thing:\n",
    "W_grad = grad(loss)(W, b)\n",
    "print(f'{W_grad=}')\n",
    "\n",
    "# But you can choose different values too, and drop the keyword:\n",
    "b_grad = grad(loss, 1)(W, b)\n",
    "print(f'{b_grad=}')\n",
    "\n",
    "# Including tuple values\n",
    "W_grad, b_grad = grad(loss, (0, 1))(W, b)\n",
    "print(f'{W_grad=}')\n",
    "print(f'{b_grad=}')"
   ]
  },
  {
   "cell_type": "code",
   "execution_count": 56,
   "metadata": {},
   "outputs": [
    {
     "name": "stdout",
     "output_type": "stream",
     "text": [
      "{'W': Array([-0.43314594, -0.7354604 , -1.2598921 ], dtype=float32), 'b': Array(-0.6900177, dtype=float32)}\n"
     ]
    }
   ],
   "source": [
    "#JAX's use of pytrees means that we can differentiate with respect\n",
    "# to dictionaries, tuples or lists:\n",
    "def loss2(params_dict):\n",
    "    preds = predict(params_dict['W'], params_dict['b'], inputs)\n",
    "    label_probs = preds * targets + (1 - preds) * (1 - targets)\n",
    "    return -jnp.sum(jnp.log(label_probs))\n",
    "\n",
    "print(grad(loss2)({'W': W, 'b': b}))"
   ]
  },
  {
   "cell_type": "code",
   "execution_count": 57,
   "metadata": {},
   "outputs": [
    {
     "name": "stdout",
     "output_type": "stream",
     "text": [
      "loss_value=Array(2.9729187, dtype=float32)\n",
      "loss_grad=(Array([-0.43314594, -0.7354604 , -1.2598921 ], dtype=float32), Array(-0.6900177, dtype=float32))\n"
     ]
    }
   ],
   "source": [
    "# We can use value_and_grad to get both the value of the function\n",
    "# and the gradient at the same time:\n",
    "\n",
    "loss_value, loss_grad = jax.value_and_grad(loss, (0,1))(W, b)\n",
    "print(f'{loss_value=}')\n",
    "print(f'{loss_grad=}')"
   ]
  },
  {
   "cell_type": "code",
   "execution_count": null,
   "metadata": {},
   "outputs": [],
   "source": [
    "# We can debug using jax.debug.print to print the actual runtime\n",
    "# values. This works in combination with jax.vmap and jax.lax.map,\n",
    "# though the order of printing in each is different.\n",
    "# Breakpoints can be used to stop the running of code at a certain\n",
    "# point and open a debug session. This can be used with conditionals\n",
    "# through jax.lax.cond"
   ]
  },
  {
   "cell_type": "code",
   "execution_count": null,
   "metadata": {},
   "outputs": [],
   "source": [
    "# jax.debug.callback can be used to have greater control over the\n",
    "# host-side logic, byt calling a function. Thus, it is better for\n",
    "# general purpose debugging."
   ]
  },
  {
   "cell_type": "code",
   "execution_count": 60,
   "metadata": {},
   "outputs": [
    {
     "name": "stdout",
     "output_type": "stream",
     "text": [
      "[0.5488135  0.71518937 0.60276338]\n"
     ]
    }
   ],
   "source": [
    "#(Pseudo-)random number generation in JAX is one part of the code that\n",
    "# is not compatible with the NumPy framework. NumPy uses mutations of\n",
    "# the global state after each function call, \n",
    "import numpy as np\n",
    "np.random.seed(0)\n",
    "print(np.random.rand(3))"
   ]
  },
  {
   "cell_type": "code",
   "execution_count": 61,
   "metadata": {},
   "outputs": [
    {
     "name": "stdout",
     "output_type": "stream",
     "text": [
      "('MT19937', array([2443250962, 1093594115, 1878467924, 2709361018, 1101979660,\n",
      "       3904844661,  676747479, 2085143622, 1056793272, 3812477442,\n",
      "       2168787041,  275552121, 2696932952, 3432054210, 1657102335,\n",
      "       3518946594,  962584079, 1051271004, 3806145045, 1414436097,\n",
      "       2032348584, 1661738718, 1116708477, 2562755208, 3176189976,\n",
      "        696824676, 2399811678, 3992505346,  569184356, 2626558620,\n",
      "        136797809, 4273176064,  296167901, 343 ...\n"
     ]
    }
   ],
   "source": [
    "# Behind the scences, NumPy uses a Mersenne Twister PRNG, which is\n",
    "# a stateful generator. \n",
    "\n",
    "def print_truncated_random_state():\n",
    "  \"\"\"To avoid spamming the outputs, print only part of the state.\"\"\"\n",
    "  full_random_state = np.random.get_state()\n",
    "  print(str(full_random_state)[:460], '...')\n",
    "\n",
    "print_truncated_random_state()"
   ]
  },
  {
   "cell_type": "code",
   "execution_count": 73,
   "metadata": {},
   "outputs": [
    {
     "name": "stdout",
     "output_type": "stream",
     "text": [
      "('MT19937', array([         0,          1, 1812433255, 1900727105, 1208447044,\n",
      "       2481403966, 4042607538,  337614300, 3232553940, 1018809052,\n",
      "       3202401494, 1775180719, 3192392114,  594215549,  184016991,\n",
      "        829906058,  610491522, 3879932251, 3139825610,  297902587,\n",
      "       4075895579, 2943625357, 3530655617, 1423771745, 2135928312,\n",
      "       2891506774, 1066338622,  135451537,  933040465, 2759011858,\n",
      "       2273819758, 3545703099, 2516396728, 127 ...\n",
      "('MT19937', array([2443250962, 1093594115, 1878467924, 2709361018, 1101979660,\n",
      "       3904844661,  676747479, 2085143622, 1056793272, 3812477442,\n",
      "       2168787041,  275552121, 2696932952, 3432054210, 1657102335,\n",
      "       3518946594,  962584079, 1051271004, 3806145045, 1414436097,\n",
      "       2032348584, 1661738718, 1116708477, 2562755208, 3176189976,\n",
      "        696824676, 2399811678, 3992505346,  569184356, 2626558620,\n",
      "        136797809, 4273176064,  296167901, 343 ...\n"
     ]
    }
   ],
   "source": [
    "# We can see that the state is updated after each call\n",
    "np.random.seed(0)\n",
    "print_truncated_random_state()\n",
    "\n",
    "np.random.seed(0)\n",
    "np.random.normal()\n",
    "print_truncated_random_state()\n",
    "\n",
    "#These results are the same whether sampled individually or in batches"
   ]
  },
  {
   "cell_type": "code",
   "execution_count": 74,
   "metadata": {},
   "outputs": [
    {
     "name": "stdout",
     "output_type": "stream",
     "text": [
      "1.9791922366721637\n"
     ]
    }
   ],
   "source": [
    "# JAX's approach is different. The aim of JAX is to make this process\n",
    "# reproducible, parallelisable and vectorisable. Consider the following\n",
    "# NumPy code:\n",
    "\n",
    "import numpy as np\n",
    "\n",
    "np.random.seed(0)\n",
    "\n",
    "def bar(): return np.random.uniform()\n",
    "def baz(): return np.random.uniform()\n",
    "\n",
    "def foo(): return bar() + 2 * baz()\n",
    "\n",
    "print(foo())"
   ]
  },
  {
   "cell_type": "code",
   "execution_count": 78,
   "metadata": {},
   "outputs": [
    {
     "name": "stdout",
     "output_type": "stream",
     "text": [
      "Array((), dtype=key<fry>) overlaying:\n",
      "[ 0 42]\n"
     ]
    }
   ],
   "source": [
    "# This output can only be reproducible if bar and baz are executed in\n",
    "# a predictable order. This is fine in NumPy, but not in JAX as we \n",
    "# want to give the compiler the freedom to execute the code in any\n",
    "# order it wants. Additionally, a global state would have to be\n",
    "# synchronised across multiple devices, hampering parallelisation.\n",
    "# To solve this, JAX uses explicit keys to track states:\n",
    "\n",
    "from jax import random\n",
    "\n",
    "key = random.key(42)\n",
    "print(key)"
   ]
  },
  {
   "cell_type": "code",
   "execution_count": 79,
   "metadata": {},
   "outputs": [
    {
     "name": "stdout",
     "output_type": "stream",
     "text": [
      "-0.028304616\n",
      "-0.028304616\n"
     ]
    }
   ],
   "source": [
    "# The key is an array of special dtype corresponding to the PRNG\n",
    "# state. This is passed explicitly, so random functions consume\n",
    "# the key but do not mutate it:\n",
    "\n",
    "print(random.normal(key))\n",
    "print(random.normal(key))"
   ]
  },
  {
   "cell_type": "code",
   "execution_count": 88,
   "metadata": {},
   "outputs": [
    {
     "name": "stdout",
     "output_type": "stream",
     "text": [
      "draw 0: -0.24392002820968628\n",
      "draw 1: 0.947751522064209\n",
      "draw 2: 0.10954111069440842\n"
     ]
    }
   ],
   "source": [
    "# Therefore, to get different outputs, we need to change the key\n",
    "# after using it. JAX uses a Threefry counter-based PRNG, which\n",
    "# is a stateless generator. They are splittable, so we can fork\n",
    "# the key into new ones to use in parallel generation. The number\n",
    "# of keys to split to can be specified as well. An example:\n",
    "key = random.key(1)\n",
    "\n",
    "for i in range(3):\n",
    "  new_key, subkey = random.split(key)\n",
    "  del key  # The old key is consumed by split() -- we must never use it again.\n",
    "\n",
    "  val = random.normal(subkey)\n",
    "  del subkey  # The subkey is consumed by normal().\n",
    "\n",
    "  print(f\"draw {i}: {val}\")\n",
    "  key = new_key  # new_key is safe to use in the next iteration."
   ]
  },
  {
   "cell_type": "code",
   "execution_count": null,
   "metadata": {},
   "outputs": [],
   "source": [
    "# JAX does not provide a sequential evidence guarantee as in NumPy\n",
    "# (i.e. all at once vs in batches). This allows greater flexibility\n",
    "# in writing our code, as we can e.g. vectorise it."
   ]
  },
  {
   "cell_type": "code",
   "execution_count": 89,
   "metadata": {},
   "outputs": [
    {
     "data": {
      "text/plain": [
       "[[1, 4, 9], [16, 25], [36, 49, 64, 81]]"
      ]
     },
     "execution_count": 89,
     "metadata": {},
     "output_type": "execute_result"
    }
   ],
   "source": [
    "# A pytree is an object built out of container-like objects, e.g.\n",
    "# lists of lists of dictionaries, dictionaries of lists, etc. A\n",
    "# leaf in a pytree is any non-pytree object, but a single leaf is\n",
    "# also a pytree. These can contain e.g. datasets, model parameters,\n",
    "# optimiser state, etc.\n",
    "\n",
    "# JAX provides a set of functions to work with pytrees, e.g. jax.tree_map:\n",
    "\n",
    "import jax.numpy as jnp\n",
    "import jax\n",
    "\n",
    "list_of_lists = [[1, 2, 3], [4, 5], [6, 7, 8, 9]]\n",
    "\n",
    "jax.tree.map(lambda x: x**2, list_of_lists)"
   ]
  },
  {
   "cell_type": "code",
   "execution_count": 90,
   "metadata": {},
   "outputs": [
    {
     "data": {
      "text/plain": [
       "[[2, 4, 6], [8, 10], [12, 14, 16, 18]]"
      ]
     },
     "execution_count": 90,
     "metadata": {},
     "output_type": "execute_result"
    }
   ],
   "source": [
    "# This can also take N-array functions over multiple arguments.\n",
    "# The structure of the arguments must be the same: \n",
    "jax.tree.map(lambda x, y: x+y, list_of_lists, list_of_lists)"
   ]
  },
  {
   "cell_type": "code",
   "execution_count": 92,
   "metadata": {},
   "outputs": [
    {
     "data": {
      "text/plain": [
       "[{'biases': (128,), 'weights': (1, 128)},\n",
       " {'biases': (128,), 'weights': (128, 128)},\n",
       " {'biases': (1,), 'weights': (128, 1)}]"
      ]
     },
     "execution_count": 92,
     "metadata": {},
     "output_type": "execute_result"
    }
   ],
   "source": [
    "# As an example of using this in ML, consider the following:\n",
    "\n",
    "import numpy as np\n",
    "\n",
    "def init_mlp_params(layer_widths):\n",
    "  params = []\n",
    "  for n_in, n_out in zip(layer_widths[:-1], layer_widths[1:]):\n",
    "    params.append(\n",
    "        dict(weights=np.random.normal(size=(n_in, n_out)) * np.sqrt(2/n_in),\n",
    "             biases=np.ones(shape=(n_out,))\n",
    "            )\n",
    "    )\n",
    "  return params\n",
    "\n",
    "params = init_mlp_params([1, 128, 128, 1])\n",
    "jax.tree.map(lambda x: x.shape, params) #Check shapes"
   ]
  },
  {
   "cell_type": "code",
   "execution_count": 94,
   "metadata": {},
   "outputs": [],
   "source": [
    "# Define the forward pass.\n",
    "def forward(params, x):\n",
    "  *hidden, last = params\n",
    "  for layer in hidden:\n",
    "    x = jax.nn.relu(x @ layer['weights'] + layer['biases'])\n",
    "  return x @ last['weights'] + last['biases']\n",
    "\n",
    "# Define the loss function.\n",
    "def loss_fn(params, x, y):\n",
    "  return jnp.mean((forward(params, x) - y) ** 2)\n",
    "\n",
    "# Set the learning rate.\n",
    "LEARNING_RATE = 0.0001\n",
    "\n",
    "# Using the stochastic gradient descent, define the parameter update function.\n",
    "# Apply `@jax.jit` for JIT compilation (speed).\n",
    "@jax.jit\n",
    "def update(params, x, y):\n",
    "  # Calculate the gradients with `jax.grad`.\n",
    "  grads = jax.grad(loss_fn)(params, x, y)\n",
    "  # Note that `grads` is a pytree with the same structure as `params`.\n",
    "  # `jax.grad` is one of many JAX functions that has\n",
    "  # built-in support for pytrees.\n",
    "  # This is useful - you can apply the SGD update using JAX pytree utilities.\n",
    "  return jax.tree.map(\n",
    "      lambda p, g: p - LEARNING_RATE * g, params, grads\n",
    "  )"
   ]
  },
  {
   "cell_type": "code",
   "execution_count": null,
   "metadata": {},
   "outputs": [],
   "source": [
    "# If new classes are defined, JAX considers these as pytree\n",
    "# leaves unless explicitly registered. This requires some setup,\n",
    "# but allows for more flexibility in the code. We can save on\n",
    "# some of this by using inheritance from other classes, such\n",
    "# as the NamedTuple class. Another way is using the @dataclass\n",
    "# decorator from the dataclasses module, in combination with\n",
    "# functools.partial on jax.tree_util.register_dataclass."
   ]
  },
  {
   "cell_type": "code",
   "execution_count": null,
   "metadata": {},
   "outputs": [],
   "source": [
    "# Each leaf of a pytree has a key path, so a key path for a\n",
    "# leaf is a list of keys, with length equal to the depth of\n",
    "# the leaf in the pytree. Each key is a hashable object, and\n",
    "# depends on the type of object being looked at in the tree.\n",
    "# JAX provides a few key types for dicts, lists and custom\n",
    "# nodes."
   ]
  },
  {
   "cell_type": "code",
   "execution_count": null,
   "metadata": {},
   "outputs": [],
   "source": [
    "# See colab for info on parallel compuation in JAX."
   ]
  }
 ],
 "metadata": {
  "kernelspec": {
   "display_name": "neutang",
   "language": "python",
   "name": "python3"
  },
  "language_info": {
   "codemirror_mode": {
    "name": "ipython",
    "version": 3
   },
   "file_extension": ".py",
   "mimetype": "text/x-python",
   "name": "python",
   "nbconvert_exporter": "python",
   "pygments_lexer": "ipython3",
   "version": "3.11.11"
  }
 },
 "nbformat": 4,
 "nbformat_minor": 2
}
